{
 "cells": [
  {
   "cell_type": "code",
   "execution_count": 98,
   "metadata": {},
   "outputs": [],
   "source": [
    "import kagglehub\n",
    "import csv\n",
    "from pathlib import Path\n",
    "import numpy as np"
   ]
  },
  {
   "cell_type": "code",
   "execution_count": 99,
   "metadata": {},
   "outputs": [
    {
     "name": "stdout",
     "output_type": "stream",
     "text": [
      "Column 0: price\n",
      "Column 1: area\n",
      "Column 2: bedrooms\n",
      "Column 3: bathrooms\n",
      "Column 4: stories\n",
      "Column 5: mainroad\n",
      "Column 6: guestroom\n",
      "Column 7: basement\n",
      "Column 8: hotwaterheating\n",
      "Column 9: airconditioning\n",
      "Column 10: parking\n",
      "Column 11: prefarea\n",
      "Column 12: furnishingstatus\n"
     ]
    }
   ],
   "source": [
    "# path = kagglehub.dataset_download(\"yasserh/housing-prices-dataset\")\n",
    "# directory_path = Path(path)\n",
    "\n",
    "# # Find the CSV file in the directory\n",
    "# csv_file = next(directory_path.glob(\"*.csv\"))\n",
    "# print(path)\n",
    "# lines = csv_file.read_text().split(\"\\n\")\n",
    "\n",
    "path = Path('./Housing.csv')\n",
    "lines = path.read_text().split(\"\\n\")\n",
    "reader = csv.reader(lines)\n",
    "header_row = next(reader)\n",
    "\n",
    "for col in range(len(header_row)):\n",
    "    print(f\"Column {col}: {header_row[col]}\")\n"
   ]
  },
  {
   "cell_type": "code",
   "execution_count": 100,
   "metadata": {},
   "outputs": [
    {
     "name": "stdout",
     "output_type": "stream",
     "text": [
      "7420.0\n"
     ]
    }
   ],
   "source": [
    "# Retrieving Data from CSV\n",
    "m = 0\n",
    "n = 4 # Features: Area, Bedrooms, Bathrooms, Stories\n",
    "x_data_list, y_data_list = [], []\n",
    "\n",
    "for row in reader:\n",
    "    m += 1\n",
    "    y_data_list.append(float(row[0]))\n",
    "    x_data_list.append([\n",
    "        float(row[1]),\n",
    "        float(row[2]),\n",
    "        float(row[3]),\n",
    "        float(row[4])\n",
    "    ])\n",
    "\n",
    "y_data = np.array(y_data_list)\n",
    "x_data = np.array(x_data_list)"
   ]
  }
 ],
 "metadata": {
  "kernelspec": {
   "display_name": ".venv",
   "language": "python",
   "name": "python3"
  },
  "language_info": {
   "codemirror_mode": {
    "name": "ipython",
    "version": 3
   },
   "file_extension": ".py",
   "mimetype": "text/x-python",
   "name": "python",
   "nbconvert_exporter": "python",
   "pygments_lexer": "ipython3",
   "version": "3.12.4"
  }
 },
 "nbformat": 4,
 "nbformat_minor": 2
}
